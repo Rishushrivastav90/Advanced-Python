{
  "nbformat": 4,
  "nbformat_minor": 0,
  "metadata": {
    "colab": {
      "provenance": []
    },
    "kernelspec": {
      "name": "python3",
      "display_name": "Python 3"
    },
    "language_info": {
      "name": "python"
    }
  },
  "cells": [
    {
      "cell_type": "markdown",
      "source": [
        "# **1. Dictionary Comprehension Exercise**\n",
        "## Write a dictionary comprehension that creates a dictionary where the keys are numbers from 1 to 10 and the values are their squares. Print the resulting dictionary.\n"
      ],
      "metadata": {
        "id": "iBkrI-x1gLJd"
      }
    },
    {
      "cell_type": "code",
      "source": [
        "dict = {i: i**2 for i in range(1,11)}\n",
        "print(dict)"
      ],
      "metadata": {
        "colab": {
          "base_uri": "https://localhost:8080/"
        },
        "id": "TJsri2HG1E8m",
        "outputId": "332981a5-b783-4872-974f-d3feee75db53"
      },
      "execution_count": 1,
      "outputs": [
        {
          "output_type": "stream",
          "name": "stdout",
          "text": [
            "{1: 1, 2: 4, 3: 9, 4: 16, 5: 25, 6: 36, 7: 49, 8: 64, 9: 81, 10: 100}\n"
          ]
        }
      ]
    },
    {
      "cell_type": "markdown",
      "source": [
        "# **2. List Comprehension Exercise**\n",
        "## Create a list comprehension that generates a list of even numbers from 1 to 20. Print the resulting list.\n",
        "\n"
      ],
      "metadata": {
        "id": "I4xGp1ZNgo-1"
      }
    },
    {
      "cell_type": "code",
      "source": [
        "List = [i for i in range(1,21) if i%2==0]\n",
        "print(List)"
      ],
      "metadata": {
        "colab": {
          "base_uri": "https://localhost:8080/"
        },
        "id": "vcSGave94Ls9",
        "outputId": "8a4c1462-7cb1-4210-c975-128835b7dc65"
      },
      "execution_count": 2,
      "outputs": [
        {
          "output_type": "stream",
          "name": "stdout",
          "text": [
            "[2, 4, 6, 8, 10, 12, 14, 16, 18, 20]\n"
          ]
        }
      ]
    },
    {
      "cell_type": "markdown",
      "source": [
        "# **3. Nested Dictionary Comprehension**\n",
        "## Write a nested dictionary comprehension that creates a dictionary where the keys are tuples of (x, y) for x in range(2) and y in range(2), and the values are the sum of x and y.\n"
      ],
      "metadata": {
        "id": "oIPzVRxZhUBE"
      }
    },
    {
      "cell_type": "code",
      "source": [
        "nested_dict = {(x, y): x + y for x in range(2) for y in range(2)}\n",
        "print(nested_dict)"
      ],
      "metadata": {
        "colab": {
          "base_uri": "https://localhost:8080/"
        },
        "id": "YnF1HWrBhK-n",
        "outputId": "eca80600-d20e-4d9f-99b6-70dc8835bf71"
      },
      "execution_count": 3,
      "outputs": [
        {
          "output_type": "stream",
          "name": "stdout",
          "text": [
            "{(0, 0): 0, (0, 1): 1, (1, 0): 1, (1, 1): 2}\n"
          ]
        }
      ]
    },
    {
      "cell_type": "markdown",
      "source": [
        "# **4. Lambda and filter()**\n",
        "## Create a list of numbers from 1 to 10 and use the filter() function with a lambda expression to create a new list that contains only the odd numbers. Print the resulting list.\n"
      ],
      "metadata": {
        "id": "_oj0k2MaiS5u"
      }
    },
    {
      "cell_type": "code",
      "source": [
        "# Creating a list of numbers from 1 to 10\n",
        "numbers = list(range(1, 11))\n",
        "\n",
        "# Using filter() with a lambda expression to filter odd numbers\n",
        "odd_numbers = list(filter(lambda x: x % 2 != 0, numbers))\n",
        "\n",
        "# Printing the resulting list\n",
        "print(odd_numbers)\n"
      ],
      "metadata": {
        "colab": {
          "base_uri": "https://localhost:8080/"
        },
        "id": "QpJRFDq7yqZl",
        "outputId": "f85b7ca5-8d8f-4afd-eba3-09745d7a4237"
      },
      "execution_count": 4,
      "outputs": [
        {
          "output_type": "stream",
          "name": "stdout",
          "text": [
            "[1, 3, 5, 7, 9]\n"
          ]
        }
      ]
    },
    {
      "cell_type": "markdown",
      "source": [
        "# **5. Email Validation**\n",
        "## Write a Python program that validates an email address using a regular expression.\n",
        "## The email should follow the pattern: username@domain.extension. Print \"Valid\n",
        "## Email\" if the email is valid, otherwise print \"Invalid Email\"."
      ],
      "metadata": {
        "id": "H_V8E8_FikOK"
      }
    },
    {
      "cell_type": "code",
      "source": [
        "\n",
        "import re\n",
        "\n",
        "def validate_email(email):\n",
        "    # Define the regular expression for a valid email address\n",
        "    email_regex = r'^[a-zA-Z0-9._%+-]+@[a-zA-Z0-9.-]+\\.[a-zA-Z]{2,}$'\n",
        "\n",
        "    # Use the re.match() function to check if the email matches the regex\n",
        "    if re.match(email_regex, email):\n",
        "        return True\n",
        "    else:\n",
        "        return False\n",
        "\n",
        "# Example usage\n",
        "email = input(\"Enter an email address: \")\n",
        "if validate_email(email):\n",
        "    print(f\"'{email}' is a valid email address.\")\n",
        "else:\n",
        "    print(f\"'{email}' is not a valid email address.\")"
      ],
      "metadata": {
        "colab": {
          "base_uri": "https://localhost:8080/"
        },
        "id": "xLQ3an2z2NpC",
        "outputId": "fd0776a8-4f3d-4fd5-a5f8-30a10ebcce36"
      },
      "execution_count": 7,
      "outputs": [
        {
          "output_type": "stream",
          "name": "stdout",
          "text": [
            "Enter an email address: rishushrivastav18@gmail.com\n",
            "'rishushrivastav18@gmail.com' is a valid email address.\n"
          ]
        }
      ]
    },
    {
      "cell_type": "markdown",
      "source": [
        "# **6. Password Strength Checker**\n",
        "#  Create a function that checks if a password is strong based on the following criteria:\n",
        "▪ At least one uppercase letter\n",
        "\n",
        "▪ At least one lowercase letter\n",
        "\n",
        "▪ At least one digit\n",
        "\n",
        "▪ At least one special character\n",
        "\n",
        "▪ Length between 8 and 18 characters\n",
        "\n",
        "Use a regular expression to validate the password and print \"Valid Password\" or\n",
        "\"Invalid Password\"."
      ],
      "metadata": {
        "id": "EFnwFmwEKBgP"
      }
    },
    {
      "cell_type": "code",
      "source": [
        "import re\n",
        "\n",
        "# Function to validate password strength\n",
        "def check_password_strength(password):\n",
        "    # Regular expression for a strong password\n",
        "    pattern = (\n",
        "        r'^(?=.*[A-Z])'          # At least one uppercase letter\n",
        "        r'(?=.*[a-z])'           # At least one lowercase letter\n",
        "        r'(?=.*\\d)'              # At least one digit\n",
        "        r'(?=.*[@$!%*?&#])'      # At least one special character\n",
        "        r'[A-Za-z\\d@$!%*?&#]{8,18}$'  # Length between 8 and 18\n",
        "    )\n",
        "\n",
        "    # Match the password against the pattern\n",
        "    if re.match(pattern, password):\n",
        "        print(\"Valid Password\")\n",
        "    else:\n",
        "        print(\"Invalid Password\")\n",
        "\n",
        "# Get input from the user\n",
        "password = input(\"Enter a password to check its strength: \")\n",
        "check_password_strength(password)\n"
      ],
      "metadata": {
        "colab": {
          "base_uri": "https://localhost:8080/"
        },
        "id": "RbXcbFpr2M8Y",
        "outputId": "8db4da09-74d4-4bee-8f83-881a7af8cd57"
      },
      "execution_count": 8,
      "outputs": [
        {
          "output_type": "stream",
          "name": "stdout",
          "text": [
            "Enter a password to check its strength: rishu@18\n",
            "Invalid Password\n"
          ]
        }
      ]
    },
    {
      "cell_type": "markdown",
      "source": [
        "# **7. Extracting URLs**\n",
        "## Write a Python function that extracts all URLs from a given text. Use a regular expression pattern that matches typical URL formats (e.g., starting with http:// or https://). Test the function with a sample text containing multiple URLs."
      ],
      "metadata": {
        "id": "MdZQlO1VJnI2"
      }
    },
    {
      "cell_type": "code",
      "source": [
        "import re\n",
        "\n",
        "# Function to extract URLs from text\n",
        "def extract_urls(text):\n",
        "    # Regular expression pattern for URLs\n",
        "    pattern = r'https?://[^\\s<>\"]+|www\\.[^\\s<>\"]+'\n",
        "\n",
        "    # Find all matches in the text\n",
        "    urls = re.findall(pattern, text)\n",
        "\n",
        "    return urls\n",
        "\n",
        "# Sample text containing multiple URLs\n",
        "sample_text = \"\"\"\n",
        "Here are some useful resources:\n",
        "1. Visit https://www.python.org for Python documentation.\n",
        "2. Check out https://www.github.com for version control repositories.\n",
        "3. You can also visit www.example.com for a sample domain.\n",
        "\"\"\"\n",
        "\n",
        "# Extract and print the URLs\n",
        "extracted_urls = extract_urls(sample_text)\n",
        "print(\"Extracted URLs:\", extracted_urls)\n"
      ],
      "metadata": {
        "colab": {
          "base_uri": "https://localhost:8080/"
        },
        "id": "APdFNJ_DJkyj",
        "outputId": "228c8e43-d747-4bce-ec0b-f00d55390829"
      },
      "execution_count": 9,
      "outputs": [
        {
          "output_type": "stream",
          "name": "stdout",
          "text": [
            "Extracted URLs: ['https://www.python.org', 'https://www.github.com', 'www.example.com']\n"
          ]
        }
      ]
    },
    {
      "cell_type": "markdown",
      "source": [
        "# **8. UPI ID Validator**\n",
        "Implement a function that validates a UPI ID based on the following rules:\n",
        "\n",
        "▪ It must contain an '@' symbol.\n",
        "\n",
        "▪ It should not contain whitespace.\n",
        "\n",
        "▪ It may or may not contain a dot (.) or hyphen (-).\n",
        "\n",
        "Use a regular expression to check if the UPI ID is valid and print \"Valid UPI ID\" or\n",
        "\"Invalid UPI ID\"."
      ],
      "metadata": {
        "id": "r6bLX2E3Km3Y"
      }
    },
    {
      "cell_type": "code",
      "source": [
        "import re\n",
        "\n",
        "# Function to validate UPI ID\n",
        "def validate_upi_id(upi_id):\n",
        "    # Regular expression for UPI ID\n",
        "    pattern = r'^[a-zA-Z0-9._-]+@[a-zA-Z0-9.-]+$'\n",
        "\n",
        "    # Validate the UPI ID using the regex pattern\n",
        "    if re.match(pattern, upi_id) and ' ' not in upi_id:\n",
        "        print(\"Valid UPI ID\")\n",
        "    else:\n",
        "        print(\"Invalid UPI ID\")\n",
        "\n",
        "# Test the function\n",
        "upi_id = input(\"Enter a UPI ID to validate: \")\n",
        "validate_upi_id(upi_id)\n"
      ],
      "metadata": {
        "colab": {
          "base_uri": "https://localhost:8080/"
        },
        "id": "y5ly63qaJ7bF",
        "outputId": "bf4960c4-5961-4588-a484-e463789d73f3"
      },
      "execution_count": 10,
      "outputs": [
        {
          "output_type": "stream",
          "name": "stdout",
          "text": [
            "Enter a UPI ID to validate: rishushrivastav@sbi\n",
            "Valid UPI ID\n"
          ]
        }
      ]
    },
    {
      "cell_type": "markdown",
      "source": [
        "# **9. Bank Account Class:**\n",
        "Implement a class BankAccount with attributes for account number, account\n",
        "holder's name, and balance. Include methods for depositing and withdrawing\n",
        "money, and ensure that the balance cannot go negative.\n"
      ],
      "metadata": {
        "id": "xlnI_uWOKzAh"
      }
    },
    {
      "cell_type": "code",
      "source": [
        "class BankAccount:\n",
        "    def __init__(self, account_number, account_holder, balance=0.0):\n",
        "        \"\"\"\n",
        "        Initialize the bank account with account number, holder's name, and balance.\n",
        "        \"\"\"\n",
        "        self.account_number = account_number\n",
        "        self.account_holder = account_holder\n",
        "        self.balance = balance\n",
        "\n",
        "    def deposit(self, amount):\n",
        "        \"\"\"\n",
        "        Deposit money into the account. The amount must be positive.\n",
        "        \"\"\"\n",
        "        if amount > 0:\n",
        "            self.balance += amount\n",
        "            print(f\"Deposited ₹{amount}. New balance: ₹{self.balance}\")\n",
        "        else:\n",
        "            print(\"Deposit amount must be positive.\")\n",
        "\n",
        "    def withdraw(self, amount):\n",
        "        \"\"\"\n",
        "        Withdraw money from the account. Ensure the balance does not go negative.\n",
        "        \"\"\"\n",
        "        if amount > 0:\n",
        "            if amount <= self.balance:\n",
        "                self.balance -= amount\n",
        "                print(f\"Withdrew ₹{amount}. New balance: ₹{self.balance}\")\n",
        "            else:\n",
        "                print(\"Insufficient balance.\")\n",
        "        else:\n",
        "            print(\"Withdrawal amount must be positive.\")\n",
        "\n",
        "    def display_balance(self):\n",
        "        \"\"\"\n",
        "        Display the current balance of the account.\n",
        "        \"\"\"\n",
        "        print(f\"Account Balance: ₹{self.balance}\")\n",
        "\n",
        "# Example usage\n",
        "account = BankAccount(\"1234567890\", \"John Doe\", 5000.0)\n",
        "account.display_balance()    # Display initial balance\n",
        "account.deposit(2000)        # Deposit ₹2000\n",
        "account.withdraw(3000)       # Withdraw ₹3000\n",
        "account.withdraw(5000)       # Attempt to withdraw more than the balance\n",
        "account.display_balance()    # Display final balance\n"
      ],
      "metadata": {
        "colab": {
          "base_uri": "https://localhost:8080/"
        },
        "id": "vM0OP8gGKgis",
        "outputId": "6369b801-a4db-4463-e550-38cbf6a3e69a"
      },
      "execution_count": 11,
      "outputs": [
        {
          "output_type": "stream",
          "name": "stdout",
          "text": [
            "Account Balance: ₹5000.0\n",
            "Deposited ₹2000. New balance: ₹7000.0\n",
            "Withdrew ₹3000. New balance: ₹4000.0\n",
            "Insufficient balance.\n",
            "Account Balance: ₹4000.0\n"
          ]
        }
      ]
    },
    {
      "cell_type": "markdown",
      "source": [
        "# **10. Inheritance Example:**\n",
        "Create a base class Person with attributes for name and age. Derive a subclass\n",
        "Student that adds an attribute for student_id and a method to display student details.\n",
        "Create an object of the Student class and display its information."
      ],
      "metadata": {
        "id": "XwWzFka3LNay"
      }
    },
    {
      "cell_type": "code",
      "source": [
        "class Person:\n",
        "    def __init__(self, name, age):\n",
        "        \"\"\"\n",
        "        Initialize the Person with a name and age.\n",
        "        \"\"\"\n",
        "        self.name = name\n",
        "        self.age = age\n",
        "\n",
        "    def display_details(self):\n",
        "        \"\"\"\n",
        "        Display the details of the person.\n",
        "        \"\"\"\n",
        "        print(f\"Name: {self.name}\")\n",
        "        print(f\"Age: {self.age}\")\n",
        "\n",
        "\n",
        "class Student(Person):\n",
        "    def __init__(self, name, age, student_id):\n",
        "        \"\"\"\n",
        "        Initialize the Student with a name, age, and student ID.\n",
        "        \"\"\"\n",
        "        super().__init__(name, age)  # Call the base class constructor\n",
        "        self.student_id = student_id\n",
        "\n",
        "    def display_student_details(self):\n",
        "        \"\"\"\n",
        "        Display the details of the student.\n",
        "        \"\"\"\n",
        "        self.display_details()  # Call the base class method\n",
        "        print(f\"Student ID: {self.student_id}\")\n",
        "\n",
        "\n",
        "# Create a Student object and display its information\n",
        "student = Student(\"Alice\", 21, \"S12345\")\n",
        "student.display_student_details()"
      ],
      "metadata": {
        "colab": {
          "base_uri": "https://localhost:8080/"
        },
        "id": "8SBX61nRLCP8",
        "outputId": "4669cec0-a6ae-4c11-887a-2c9c49313269"
      },
      "execution_count": 12,
      "outputs": [
        {
          "output_type": "stream",
          "name": "stdout",
          "text": [
            "Name: Alice\n",
            "Age: 21\n",
            "Student ID: S12345\n"
          ]
        }
      ]
    },
    {
      "cell_type": "markdown",
      "source": [
        "# **11. Polymorphism with Shapes**\n",
        "Create a base class Shape with a method area(). Derive two subclasses: Circle and\n",
        "Square, each implementing the area() method to calculate the area based on their\n",
        "2\n",
        "specific formulas. Create objects of both classes and demonstrate polymorphism by\n",
        "calling the area() method."
      ],
      "metadata": {
        "id": "E_Oui9NmLitN"
      }
    },
    {
      "cell_type": "code",
      "source": [
        "import math\n",
        "\n",
        "class Shape:\n",
        "    def area(self):\n",
        "        \"\"\"\n",
        "        Base method for calculating the area of a shape.\n",
        "        Should be overridden by subclasses.\n",
        "        \"\"\"\n",
        "        raise NotImplementedError(\"Subclasses must implement this method.\")\n",
        "\n",
        "class Circle(Shape):\n",
        "    def __init__(self, radius):\n",
        "        \"\"\"\n",
        "        Initialize the Circle with a radius.\n",
        "        \"\"\"\n",
        "        self.radius = radius\n",
        "\n",
        "    def area(self):\n",
        "        \"\"\"\n",
        "        Calculate and return the area of the circle.\n",
        "        Formula: π * radius^2\n",
        "        \"\"\"\n",
        "        return math.pi * (self.radius ** 2)\n",
        "\n",
        "class Square(Shape):\n",
        "    def __init__(self, side):\n",
        "        \"\"\"\n",
        "        Initialize the Square with a side length.\n",
        "        \"\"\"\n",
        "        self.side = side\n",
        "\n",
        "    def area(self):\n",
        "        \"\"\"\n",
        "        Calculate and return the area of the square.\n",
        "        Formula: side^2\n",
        "        \"\"\"\n",
        "        return self.side ** 2\n",
        "\n",
        "# Demonstrate polymorphism\n",
        "shapes = [\n",
        "    Circle(5),  # Create a Circle object with radius 5\n",
        "    Square(4)   # Create a Square object with side length 4\n",
        "]\n",
        "\n",
        "for shape in shapes:\n",
        "    print(f\"The area of the {type(shape).__name__} is: {shape.area():.2f}\")\n"
      ],
      "metadata": {
        "colab": {
          "base_uri": "https://localhost:8080/"
        },
        "id": "t3rQ1AcgLe9j",
        "outputId": "f4565283-f1f3-4597-940a-cd3adabb3698"
      },
      "execution_count": 13,
      "outputs": [
        {
          "output_type": "stream",
          "name": "stdout",
          "text": [
            "The area of the Circle is: 78.54\n",
            "The area of the Square is: 16.00\n"
          ]
        }
      ]
    },
    {
      "cell_type": "markdown",
      "source": [
        "# **12. Encapsulation in a Class**\n",
        "Implement a class Motorcycle with private attributes for color, engine_size, and\n",
        "max_speed. Provide public methods to set and get these attributes. Create an object\n",
        "of the class and demonstrate the use of encapsulation by accessing the attributes\n",
        "through the provided methods."
      ],
      "metadata": {
        "id": "6ruoY9yOL0jg"
      }
    },
    {
      "cell_type": "code",
      "source": [
        "class Motorcycle:\n",
        "    def __init__(self, color, engine_size, max_speed):\n",
        "        \"\"\"\n",
        "        Initialize the Motorcycle with private attributes.\n",
        "        \"\"\"\n",
        "        self.__color = color          # Private attribute\n",
        "        self.__engine_size = engine_size  # Private attribute\n",
        "        self.__max_speed = max_speed      # Private attribute\n",
        "\n",
        "    # Getter methods\n",
        "    def get_color(self):\n",
        "        return self.__color\n",
        "\n",
        "    def get_engine_size(self):\n",
        "        return self.__engine_size\n",
        "\n",
        "    def get_max_speed(self):\n",
        "        return self.__max_speed\n",
        "\n",
        "    # Setter methods\n",
        "    def set_color(self, color):\n",
        "        self.__color = color\n",
        "\n",
        "    def set_engine_size(self, engine_size):\n",
        "        self.__engine_size = engine_size\n",
        "\n",
        "    def set_max_speed(self, max_speed):\n",
        "        self.__max_speed = max_speed\n",
        "\n",
        "# Demonstrate encapsulation\n",
        "motorcycle = Motorcycle(\"Red\", \"500cc\", \"200 km/h\")\n",
        "\n",
        "# Access private attributes using public methods\n",
        "print(\"Motorcycle Details:\")\n",
        "print(f\"Color: {motorcycle.get_color()}\")\n",
        "print(f\"Engine Size: {motorcycle.get_engine_size()}\")\n",
        "print(f\"Max Speed: {motorcycle.get_max_speed()}\")\n",
        "\n",
        "# Modify private attributes using public methods\n",
        "motorcycle.set_color(\"Blue\")\n",
        "motorcycle.set_engine_size(\"650cc\")\n",
        "motorcycle.set_max_speed(\"250 km/h\")\n",
        "\n",
        "# Display updated details\n",
        "print(\"\\nUpdated Motorcycle Details:\")\n",
        "print(f\"Color: {motorcycle.get_color()}\")\n",
        "print(f\"Engine Size: {motorcycle.get_engine_size()}\")\n",
        "print(f\"Max Speed: {motorcycle.get_max_speed()}\")\n"
      ],
      "metadata": {
        "colab": {
          "base_uri": "https://localhost:8080/"
        },
        "id": "QJT9XjXlLwXC",
        "outputId": "c33fe49a-d744-4ac9-85b3-3318478680d5"
      },
      "execution_count": 14,
      "outputs": [
        {
          "output_type": "stream",
          "name": "stdout",
          "text": [
            "Motorcycle Details:\n",
            "Color: Red\n",
            "Engine Size: 500cc\n",
            "Max Speed: 200 km/h\n",
            "\n",
            "Updated Motorcycle Details:\n",
            "Color: Blue\n",
            "Engine Size: 650cc\n",
            "Max Speed: 250 km/h\n"
          ]
        }
      ]
    },
    {
      "cell_type": "markdown",
      "source": [
        "# **13. Basic Decorator Creation**\n",
        "Write a simple decorator called uppercase_decorator that converts the return\n",
        "value of a function to uppercase. Test it with a function that returns a string.\n"
      ],
      "metadata": {
        "id": "nP-11qHUMHsr"
      }
    },
    {
      "cell_type": "code",
      "source": [
        "# Define the decorator\n",
        "def uppercase_decorator(func):\n",
        "    def wrapper():\n",
        "        # Call the original function and convert its return value to uppercase\n",
        "        result = func()\n",
        "        return result.upper()\n",
        "    return wrapper\n",
        "\n",
        "# Define a test function and apply the decorator\n",
        "@uppercase_decorator\n",
        "def greet():\n",
        "    return \"hello, world\"\n",
        "\n",
        "# Test the decorated function\n",
        "print(greet())\n"
      ],
      "metadata": {
        "colab": {
          "base_uri": "https://localhost:8080/"
        },
        "id": "uGMsY-doMDE1",
        "outputId": "7e84f757-e4a3-445b-eaaf-258d14f9d0bd"
      },
      "execution_count": 15,
      "outputs": [
        {
          "output_type": "stream",
          "name": "stdout",
          "text": [
            "HELLO, WORLD\n"
          ]
        }
      ]
    },
    {
      "cell_type": "markdown",
      "source": [
        "# **14. Timing Decorator**\n",
        "Create a decorator named time_it that measures the execution time of a function.\n",
        "The decorator should print the time taken to execute the function when it is\n",
        "called."
      ],
      "metadata": {
        "id": "VXep56yhMWVJ"
      }
    },
    {
      "cell_type": "code",
      "source": [
        "import time\n",
        "\n",
        "# Define the timing decorator\n",
        "def time_it(func):\n",
        "    def wrapper(*args, **kwargs):\n",
        "        # Record the start time\n",
        "        start_time = time.time()\n",
        "\n",
        "        # Call the original function\n",
        "        result = func(*args, **kwargs)\n",
        "\n",
        "        # Record the end time\n",
        "        end_time = time.time()\n",
        "\n",
        "        # Calculate and print the execution time\n",
        "        execution_time = end_time - start_time\n",
        "        print(f\"Execution time of {func.__name__}: {execution_time:.6f} seconds\")\n",
        "\n",
        "        return result\n",
        "    return wrapper\n",
        "\n",
        "# Define a test function and apply the decorator\n",
        "@time_it\n",
        "def example_function(n):\n",
        "    total = 0\n",
        "    for i in range(n):\n",
        "        total += i\n",
        "    return total\n",
        "\n",
        "# Test the decorated function\n",
        "print(f\"Result: {example_function(1000000)}\")\n"
      ],
      "metadata": {
        "colab": {
          "base_uri": "https://localhost:8080/"
        },
        "id": "2dMX519tMR0G",
        "outputId": "6e225404-1798-42ba-b1ba-7d8d4d00332f"
      },
      "execution_count": 16,
      "outputs": [
        {
          "output_type": "stream",
          "name": "stdout",
          "text": [
            "Execution time of example_function: 0.067388 seconds\n",
            "Result: 499999500000\n"
          ]
        }
      ]
    },
    {
      "cell_type": "markdown",
      "source": [
        "# **15. Parameterized Decorator**\n",
        "Implement a parameterized decorator called repeat that takes an integer n as an\n",
        "argument and repeats the execution of the decorated function n times. Test it\n",
        "with a function that prints a message."
      ],
      "metadata": {
        "id": "7uVg4c6HMk6M"
      }
    },
    {
      "cell_type": "code",
      "source": [
        "# Define the parameterized decorator\n",
        "def repeat(n):\n",
        "    def decorator(func):\n",
        "        def wrapper(*args, **kwargs):\n",
        "            for i in range(n):\n",
        "                print(f\"Execution {i + 1}:\")\n",
        "                func(*args, **kwargs)\n",
        "        return wrapper\n",
        "    return decorator\n",
        "\n",
        "# Define a test function and apply the parameterized decorator\n",
        "@repeat(3)  # Repeat the function 3 times\n",
        "def print_message():\n",
        "    print(\"Hello, this is a repeated message!\")\n",
        "\n",
        "# Test the decorated function\n",
        "print_message()"
      ],
      "metadata": {
        "colab": {
          "base_uri": "https://localhost:8080/"
        },
        "id": "CAl8EddBMg2F",
        "outputId": "d8fe42e8-6861-4089-d652-ba7d06f49dd4"
      },
      "execution_count": 17,
      "outputs": [
        {
          "output_type": "stream",
          "name": "stdout",
          "text": [
            "Execution 1:\n",
            "Hello, this is a repeated message!\n",
            "Execution 2:\n",
            "Hello, this is a repeated message!\n",
            "Execution 3:\n",
            "Hello, this is a repeated message!\n"
          ]
        }
      ]
    },
    {
      "cell_type": "markdown",
      "source": [
        "# **16. Caching with functools.lru_cache**\n",
        "Use the @lru_cache decorator from the functools module to create a function\n",
        "that computes the nth Fibonacci number. Test the function with various inputs\n",
        "to demonstrate the caching effect."
      ],
      "metadata": {
        "id": "EeVbsq65Mziw"
      }
    },
    {
      "cell_type": "code",
      "source": [
        "from functools import lru_cache\n",
        "\n",
        "# Define a function to compute the nth Fibonacci number with caching\n",
        "@lru_cache(maxsize=None)  # Unlimited cache size\n",
        "def fibonacci(n):\n",
        "    if n <= 0:\n",
        "        return 0\n",
        "    elif n == 1:\n",
        "        return 1\n",
        "    else:\n",
        "        return fibonacci(n - 1) + fibonacci(n - 2)\n",
        "\n",
        "# Test the function with various inputs\n",
        "print(f\"Fibonacci(10): {fibonacci(10)}\")\n",
        "print(f\"Fibonacci(20): {fibonacci(20)}\")\n",
        "print(f\"Fibonacci(30): {fibonacci(30)}\")\n",
        "print(f\"Fibonacci(10): {fibonacci(10)} (cached result)\")\n"
      ],
      "metadata": {
        "colab": {
          "base_uri": "https://localhost:8080/"
        },
        "id": "Jx9-Pa7FMvA2",
        "outputId": "fd65ea98-abb4-471a-9e25-abe6fbc2be8a"
      },
      "execution_count": 18,
      "outputs": [
        {
          "output_type": "stream",
          "name": "stdout",
          "text": [
            "Fibonacci(10): 55\n",
            "Fibonacci(20): 6765\n",
            "Fibonacci(30): 832040\n",
            "Fibonacci(10): 55 (cached result)\n"
          ]
        }
      ]
    },
    {
      "cell_type": "markdown",
      "source": [
        "# **17. Registration Decorator**\n",
        "Create a registration decorator called register that keeps track of all functions it\n",
        "decorates in a global list. Write a function that returns the list of registered\n",
        "functions."
      ],
      "metadata": {
        "id": "cd7SYT68NGsi"
      }
    },
    {
      "cell_type": "code",
      "source": [
        "# Global list to store registered functions\n",
        "registered_functions = []\n",
        "\n",
        "# Define the registration decorator\n",
        "def register(func):\n",
        "    def wrapper(*args, **kwargs):\n",
        "        registered_functions.append(func)  # Register the function\n",
        "        return func(*args, **kwargs)\n",
        "    return wrapper\n",
        "\n",
        "# Define some test functions and apply the register decorator\n",
        "@register\n",
        "def greet():\n",
        "    print(\"Hello!\")\n",
        "\n",
        "@register\n",
        "def farewell():\n",
        "    print(\"Goodbye!\")\n",
        "\n",
        "# Function to get the list of registered functions\n",
        "def get_registered_functions():\n",
        "    return registered_functions\n",
        "\n",
        "# Test the functions\n",
        "greet()\n",
        "farewell()\n",
        "\n",
        "# Retrieve and print the list of registered functions\n",
        "print(\"Registered Functions:\")\n",
        "for func in get_registered_functions():\n",
        "    print(func.__name__)\n"
      ],
      "metadata": {
        "colab": {
          "base_uri": "https://localhost:8080/"
        },
        "id": "TwL06GxINBlk",
        "outputId": "ea38420a-91cf-4fec-b28d-a0bb8141bae4"
      },
      "execution_count": 19,
      "outputs": [
        {
          "output_type": "stream",
          "name": "stdout",
          "text": [
            "Hello!\n",
            "Goodbye!\n",
            "Registered Functions:\n",
            "greet\n",
            "farewell\n"
          ]
        }
      ]
    },
    {
      "cell_type": "markdown",
      "source": [
        "# **18. Closure Example**\n",
        "Write a function make_counter that returns a nested function (closure) that\n",
        "counts how many times it has been called. The outer function should return the\n",
        "inner function, and the inner function should print the current count each time\n",
        "it is called."
      ],
      "metadata": {
        "id": "bNWpdwZJNWbC"
      }
    },
    {
      "cell_type": "code",
      "source": [
        "def make_counter():\n",
        "    count = 0  # Outer function keeps track of the count\n",
        "\n",
        "    def counter():\n",
        "        nonlocal count  # Use the nonlocal keyword to modify the outer count\n",
        "        count += 1\n",
        "        print(f\"Count: {count}\")\n",
        "\n",
        "    return counter\n",
        "\n",
        "# Create a counter instance\n",
        "counter_function = make_counter()\n",
        "\n",
        "# Call the counter multiple times\n",
        "counter_function()  # Output: Count: 1\n",
        "counter_function()  # Output: Count: 2\n",
        "counter_function()  # Output: Count: 3"
      ],
      "metadata": {
        "colab": {
          "base_uri": "https://localhost:8080/"
        },
        "id": "9Clk2_EWNRJs",
        "outputId": "4481c276-5e5e-49c9-ff13-6785010180f9"
      },
      "execution_count": 20,
      "outputs": [
        {
          "output_type": "stream",
          "name": "stdout",
          "text": [
            "Count: 1\n",
            "Count: 2\n",
            "Count: 3\n"
          ]
        }
      ]
    },
    {
      "cell_type": "markdown",
      "source": [
        "# **19. Stacked Decorators**\n",
        "Create two decorators: bold and italic. The bold decorator should wrap the\n",
        "output of a function in <b> tags, and the italic decorator should wrap it in <i>\n",
        "tags. Stack these decorators on a function that returns a string, and test the\n",
        "output."
      ],
      "metadata": {
        "id": "-QX6-MDWNk2c"
      }
    },
    {
      "cell_type": "code",
      "source": [
        "# Bold decorator\n",
        "def bold(func):\n",
        "    def wrapper():\n",
        "        return f\"<b>{func()}</b>\"\n",
        "    return wrapper\n",
        "\n",
        "# Italic decorator\n",
        "def italic(func):\n",
        "    def wrapper():\n",
        "        return f\"<i>{func()}</i>\"\n",
        "    return wrapper\n",
        "\n",
        "# Applying both decorators\n",
        "@bold\n",
        "@italic\n",
        "def display_text():\n",
        "    return \"Hello, World!\"\n",
        "\n",
        "# Test the decorated function\n",
        "print(display_text())"
      ],
      "metadata": {
        "colab": {
          "base_uri": "https://localhost:8080/"
        },
        "id": "Q-BWvC0UNhto",
        "outputId": "6e6899bc-56ca-4e2e-9b00-a430877845c7"
      },
      "execution_count": 21,
      "outputs": [
        {
          "output_type": "stream",
          "name": "stdout",
          "text": [
            "<b><i>Hello, World!</i></b>\n"
          ]
        }
      ]
    },
    {
      "cell_type": "markdown",
      "source": [
        "# **20. Multiple Dispatch Decorator**\n",
        "Implement a simple version of a multiple dispatch decorator that can handle\n",
        "different types of arguments. Create a function that takes either an integer or a\n",
        "string and returns a different message based on the type of the argument. Use\n",
        "the decorator to manage the different behaviors."
      ],
      "metadata": {
        "id": "gyH9HVcsN1Vs"
      }
    },
    {
      "cell_type": "code",
      "source": [
        "# Multiple dispatch decorator\n",
        "def multiple_dispatch(func):\n",
        "    def wrapper(*args, **kwargs):\n",
        "        if all(isinstance(arg, int) for arg in args):\n",
        "            return func('integer', *args, **kwargs)\n",
        "        elif all(isinstance(arg, str) for arg in args):\n",
        "            return func('string', *args, **kwargs)\n",
        "        else:\n",
        "            return \"Unsupported types\"\n",
        "    return wrapper\n",
        "\n",
        "# Function with different behaviors based on argument type\n",
        "@multiple_dispatch\n",
        "def message_dispatch(type, *args):\n",
        "    if type == 'integer':\n",
        "        return f\"Processing integer: {sum(args)}\"\n",
        "    elif type == 'string':\n",
        "        return f\"Processing string: {', '.join(args)}\"\n",
        "\n",
        "# Test cases\n",
        "print(message_dispatch(1, 2, 3))       # Output: Processing integer: 6\n",
        "print(message_dispatch(\"Hello\", \"World\"))  # Output: Processing string: Hello, World\n",
        "print(message_dispatch(1, \"Hello\"))    # Output: Unsupported types"
      ],
      "metadata": {
        "colab": {
          "base_uri": "https://localhost:8080/"
        },
        "id": "lJ6kckkCNwZj",
        "outputId": "0ffc881a-0bd5-461f-ae04-7782e8cde123"
      },
      "execution_count": 22,
      "outputs": [
        {
          "output_type": "stream",
          "name": "stdout",
          "text": [
            "Processing integer: 6\n",
            "Processing string: Hello, World\n",
            "Unsupported types\n"
          ]
        }
      ]
    },
    {
      "cell_type": "code",
      "source": [],
      "metadata": {
        "id": "z9zwjBCezxNC"
      },
      "execution_count": null,
      "outputs": []
    }
  ]
}